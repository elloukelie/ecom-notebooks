{
 "cells": [
  {
   "cell_type": "code",
   "execution_count": null,
   "id": "523c26b3-330e-4aca-a00e-8e1d055ab99d",
   "metadata": {},
   "outputs": [],
   "source": [
    "from sklearn.model_selection import train_test_split\n",
    "from sklearn.linear_model import LinearRegression\n",
    "from sklearn.metrics import mean_absolute_error, mean_squared_error\n",
    "import pandas as pd\n",
    "import matplotlib.pyplot  as plt\n",
    "import seaborn as sns\n",
    "import numpy as np\n",
    "import scipy"
   ]
  },
  {
   "cell_type": "code",
   "execution_count": null,
   "id": "7e5f10ea-8bb8-4207-8b9f-cd7249864b9a",
   "metadata": {},
   "outputs": [],
   "source": [
    "call_hours_customers = [2, 3, 4, 5, 6, 1.5, 5, 7, 8, 10]\n",
    "money_earned = [50, 70, 90, 100, 110, 40, 110, 130, 145, 180]\n",
    "\n",
    "dict = {'call_hours_customers':call_hours_customers, 'money_earned':money_earned}\n",
    "df = pd.DataFrame(dict)\n",
    "df_copy = df.copy()\n",
    "df_copy.head()"
   ]
  },
  {
   "cell_type": "code",
   "execution_count": null,
   "id": "555395d8-50ae-4646-b65d-ddc62328067e",
   "metadata": {},
   "outputs": [],
   "source": [
    "x = df_copy.drop('money_earned', axis=1)\n",
    "y = df_copy['money_earned']\n",
    "X_train, X_test, y_train, y_test = train_test_split(x, y, test_size=0.3, random_state=42)"
   ]
  },
  {
   "cell_type": "code",
   "execution_count": null,
   "id": "754aeb26-3762-4c2f-8dc4-749188451a33",
   "metadata": {},
   "outputs": [],
   "source": [
    "model = LinearRegression()\n",
    "model.fit(X_train, y_train)"
   ]
  },
  {
   "cell_type": "code",
   "execution_count": null,
   "id": "c6e5fe1c-199a-4f6f-8a60-c6fca5bc5dc3",
   "metadata": {},
   "outputs": [],
   "source": [
    "print(model.predict(X_test))\n",
    "print(y_test)"
   ]
  },
  {
   "cell_type": "code",
   "execution_count": null,
   "id": "7067b11b-7cb7-46c5-9002-d795b088cdbc",
   "metadata": {},
   "outputs": [],
   "source": [
    "test_prediction = model.predict(X_test)\n",
    "MAE = mean_absolute_error(y_test, test_prediction)\n",
    "MSE = mean_squared_error(y_test, test_prediction)\n",
    "RMSE = np.sqrt(MSE)\n",
    "y_mean = y.mean()\n",
    "print(f'MAE error in our model is {MAE}')\n",
    "print(f'MSE error in our model is {MSE}')\n",
    "print(f'RMSE error in our model is {RMSE}')"
   ]
  },
  {
   "cell_type": "code",
   "execution_count": null,
   "id": "d44d2671-0c59-41d5-9576-243b70aa7e8b",
   "metadata": {},
   "outputs": [],
   "source": [
    "y_mean = y.mean()\n",
    "test_prediction = model.predict(X_test)\n",
    "MAE = mean_absolute_error(y_test, test_prediction)\n",
    "MSE = mean_squared_error(y_test, test_prediction)\n",
    "RMSE = np.sqrt(MSE)\n",
    "print(f'MAE error percent in our model is {MAE/y_mean*100}%')\n",
    "print(f'MSE error percent in our model is {MSE/y_mean*100}%')\n",
    "print(f'RMSE error percent in our model is {RMSE/y_mean*100}%')"
   ]
  },
  {
   "cell_type": "code",
   "execution_count": null,
   "id": "b546a7f5-7aa5-4533-9cf9-ffd2af2e0f52",
   "metadata": {},
   "outputs": [],
   "source": [
    "test_residuals = y_test - test_prediction\n",
    "sns.scatterplot(x=y_test, y=test_residuals)\n",
    "plt.axhline(y=0, color='r', ls='--')\n",
    "plt.show()"
   ]
  },
  {
   "cell_type": "code",
   "execution_count": null,
   "id": "4dd23ba5-e2fa-429c-9b42-90b75d620aa4",
   "metadata": {},
   "outputs": [],
   "source": [
    "# Class Exercise - Deploying Model 22/01/25"
   ]
  },
  {
   "cell_type": "code",
   "execution_count": null,
   "id": "59b064a3-6c96-44e5-b123-96dba9fed2fa",
   "metadata": {},
   "outputs": [],
   "source": [
    "from joblib import dump, load\n",
    "model.fit(x, y)\n",
    "final_model = model\n",
    "dump(final_model, 'final_model.joblib')"
   ]
  },
  {
   "cell_type": "code",
   "execution_count": null,
   "id": "ef414e03-9d0c-4065-99b0-a2bc81142ebe",
   "metadata": {},
   "outputs": [],
   "source": [
    "loaded_model = load('final_model.joblib')"
   ]
  },
  {
   "cell_type": "code",
   "execution_count": null,
   "id": "ceab83a1-2095-4d1d-842b-0d9bb560edd5",
   "metadata": {},
   "outputs": [],
   "source": [
    "loaded_model.coef_"
   ]
  },
  {
   "cell_type": "code",
   "execution_count": null,
   "id": "8ea20603-9ffe-4e84-86e3-94887fe23f0d",
   "metadata": {},
   "outputs": [],
   "source": [
    "x.shape"
   ]
  },
  {
   "cell_type": "code",
   "execution_count": null,
   "id": "916961d7-d414-4f97-b4be-69cb4c87a8b5",
   "metadata": {},
   "outputs": [],
   "source": [
    "new_hours = [[5.5], [15]]\n",
    "loaded_model.predict(new_hours)"
   ]
  },
  {
   "cell_type": "code",
   "execution_count": null,
   "id": "1df85690-052b-4d0a-8ec3-d61b738698e7",
   "metadata": {},
   "outputs": [],
   "source": [
    "# Class Exercise - Polynomial Regression"
   ]
  },
  {
   "cell_type": "code",
   "execution_count": null,
   "id": "76ac4f19-808a-4a11-a77d-a1120f75b810",
   "metadata": {},
   "outputs": [],
   "source": [
    "from sklearn.preprocessing import PolynomialFeatures"
   ]
  },
  {
   "cell_type": "code",
   "execution_count": null,
   "id": "841a2e17-2de1-4c1d-b0fc-ce03062a0388",
   "metadata": {},
   "outputs": [],
   "source": [
    "# Train the model on 6 different polynomial regression degrees (from 1 to 6 included)"
   ]
  },
  {
   "cell_type": "code",
   "execution_count": null,
   "id": "f7f5c5a4-329b-4b89-8ae6-0078652778d7",
   "metadata": {},
   "outputs": [],
   "source": [
    "train_rmse_error = []\n",
    "test_rmse_error = []\n",
    "\n",
    "for degree in range(1, 7):\n",
    "    poly_converter = PolynomialFeatures(degree=degree, include_bias=False)\n",
    "    poly_features = poly_converter.fit_transform(x)\n",
    "    X_train, X_test, y_train, y_test = train_test_split(poly_features, y, test_size=0.3, random_state=42)\n",
    "    model.fit(X_train, y_train)\n",
    "\n",
    "    train_predict = model.predict(X_train)\n",
    "    test_predict = model.predict(X_test)\n",
    "\n",
    "    train_rmse = np.sqrt(mean_squared_error(y_train, train_predict))\n",
    "    test_rmse = np.sqrt(mean_squared_error(y_test, test_predict))\n",
    "\n",
    "    train_rmse_error.append(train_rmse)\n",
    "    test_rmse_error.append(test_rmse)\n",
    "\n",
    "plt.plot(range(1,5), train_rmse_error[:4], label='Train RMSE')\n",
    "plt.plot(range(1,5), test_rmse_error[:4], label='Test RMSE')\n",
    "\n",
    "plt.ylabel('RMSE')\n",
    "plt.xlabel('Poly Degree')\n",
    "plt.legend()\n",
    "plt.show()"
   ]
  },
  {
   "cell_type": "code",
   "execution_count": null,
   "id": "3657f8ac-963f-4f9e-80cc-de26d1058ec4",
   "metadata": {},
   "outputs": [],
   "source": [
    "# Find what is the best fit degree for polynomial regression training\n",
    "# Best fit should be at 2rd Degree "
   ]
  },
  {
   "cell_type": "code",
   "execution_count": null,
   "id": "3c6de27a-347f-4fcf-9643-19b6246adb94",
   "metadata": {},
   "outputs": [],
   "source": [
    "# Create a final model using the degree you chose and deploy it"
   ]
  },
  {
   "cell_type": "code",
   "execution_count": null,
   "id": "3c970b57-12e4-40c6-8617-43419d007a44",
   "metadata": {},
   "outputs": [],
   "source": [
    "poly_converter = PolynomialFeatures(degree=2, include_bias=False)\n",
    "poly_features = poly_converter.fit_transform(x)\n",
    "model.fit(poly_features, y)"
   ]
  },
  {
   "cell_type": "code",
   "execution_count": null,
   "id": "7bee7102-c2f5-4409-b804-64cc7a271c10",
   "metadata": {},
   "outputs": [],
   "source": [
    "# Import your final model from the joblib file and load it back to your working area"
   ]
  },
  {
   "cell_type": "code",
   "execution_count": null,
   "id": "aa90a526-b4f2-4d06-acd7-5a5bd3ad27f5",
   "metadata": {},
   "outputs": [],
   "source": [
    "final_poly_model = model\n",
    "dump(final_poly_model, 'final_poly_model.joblib')\n",
    "dump(poly_converter, 'final_converter.joblib')\n"
   ]
  },
  {
   "cell_type": "code",
   "execution_count": null,
   "id": "9752696e-5d33-41f1-bf7b-0d388cb905ed",
   "metadata": {},
   "outputs": [],
   "source": [
    "# Use the import model to predict how much money will be earned with the following new hours of\n",
    "# calling customers [5.5, 15] "
   ]
  },
  {
   "cell_type": "code",
   "execution_count": null,
   "id": "d3a2d648-740b-41cb-b3b0-8f23a1fba838",
   "metadata": {},
   "outputs": [],
   "source": [
    "loaded_final_poly_model = load('final_poly_model.joblib')\n",
    "final_converter = load('final_converter.joblib')\n",
    "\n",
    "new_hours = [[5.5], [15]]\n",
    "\n",
    "poly_features = final_converter.fit_transform(new_hours)\n",
    "loaded_final_poly_model.predict(poly_features)"
   ]
  },
  {
   "cell_type": "code",
   "execution_count": null,
   "id": "0b40d3e3-f925-4988-aeff-14ac3164014e",
   "metadata": {},
   "outputs": [],
   "source": [
    "df = pd.read_csv('csvs/Advertising.csv')"
   ]
  },
  {
   "cell_type": "code",
   "execution_count": null,
   "id": "5d0c32b5-2ba2-4f62-b002-802363d61a51",
   "metadata": {},
   "outputs": [],
   "source": [
    "df_copy = df.copy()\n",
    "df_copy.head()"
   ]
  },
  {
   "cell_type": "code",
   "execution_count": null,
   "id": "0dfed81f-cef0-4970-9b1d-38026387b477",
   "metadata": {},
   "outputs": [],
   "source": [
    "X = df_copy.drop('sales', axis=1)\n",
    "y = df_copy['sales']"
   ]
  },
  {
   "cell_type": "code",
   "execution_count": null,
   "id": "d07a393a-86ca-4927-a0a0-c2a3e4b5de64",
   "metadata": {},
   "outputs": [],
   "source": [
    "poly_converter = PolynomialFeatures(degree=3, include_bias=False)\n",
    "poly_features = poly_converter.fit_transform(X)"
   ]
  },
  {
   "cell_type": "code",
   "execution_count": null,
   "id": "c635f415-fe90-4487-a13a-b2e9ae50d9a8",
   "metadata": {},
   "outputs": [],
   "source": [
    "X_train, X_test, y_train, y_test = train_test_split(poly_features, y, test_size=0.3, random_state=101)"
   ]
  },
  {
   "cell_type": "code",
   "execution_count": null,
   "id": "b006dceb-8f29-4404-a176-eb6ff8d30d11",
   "metadata": {},
   "outputs": [],
   "source": [
    "from sklearn.preprocessing import StandardScaler\n",
    "\n",
    "scaler = StandardScaler()\n",
    "scaler.fit(X_train)\n",
    "scaled_X_train = scaler.transform(X_train)\n",
    "scaled_X_test = scaler.transform(X_test)"
   ]
  },
  {
   "cell_type": "code",
   "execution_count": null,
   "id": "485382bb-0241-4e2f-8837-2522ace6315c",
   "metadata": {},
   "outputs": [],
   "source": [
    "from sklearn.linear_model import Ridge\n",
    "\n",
    "ridge_model = Ridge(alpha=10)\n",
    "ridge_model.fit(scaled_X_train, y_train)\n",
    "test_prediction = ridge_model.predict(scaled_X_test)\n",
    "\n",
    "MAE = mean_absolute_error(y_test, test_prediction)\n",
    "RMSE = np.sqrt(mean_squared_error(y_test, test_prediction))\n",
    "\n",
    "print(f'MAE: {MAE}')\n",
    "print(f'RMSE: {RMSE}')"
   ]
  },
  {
   "cell_type": "code",
   "execution_count": null,
   "id": "b4f165dc-baa5-4367-83f1-f4cb28157901",
   "metadata": {},
   "outputs": [],
   "source": [
    "from sklearn.linear_model import RidgeCV\n",
    "\n",
    "ridge_cv_model = RidgeCV(alphas=(0.1, 1.0, 10.0), scoring='neg_mean_absolute_error')\n",
    "ridge_cv_model.fit(scaled_X_train, y_train)\n",
    "test_prediction = ridge_cv_model.predict(scaled_X_test)\n",
    "\n",
    "MAE = mean_absolute_error(y_test, test_prediction)\n",
    "RMSE = np.sqrt(mean_squared_error(y_test, test_prediction))\n",
    "\n",
    "print(f'MAE: {MAE}')\n",
    "print(f'RMSE: {RMSE}')"
   ]
  },
  {
   "cell_type": "code",
   "execution_count": null,
   "id": "fe1a5026-4de2-45e8-ac04-5c72af6527e3",
   "metadata": {},
   "outputs": [],
   "source": [
    "ridge_cv_model.alpha_"
   ]
  },
  {
   "cell_type": "code",
   "execution_count": null,
   "id": "322f0e33-6125-4b24-a8fe-bc3e3ff532ed",
   "metadata": {},
   "outputs": [],
   "source": [
    "call_hours_customers = [2, 3, 4, 5, 6, 1.5, 5, 7, 8, 10]\n",
    "money_earned = [50, 70, 90, 100, 110, 40, 110, 130, 145, 180]\n",
    "\n",
    "dict = {'call_hours_customers':call_hours_customers, 'money_earned':money_earned}\n",
    "df = pd.DataFrame(dict)\n",
    "df_copy = df.copy()\n",
    "\n",
    "X = df_copy.drop('money_earned', axis=1)\n",
    "y = df_copy['money_earned']"
   ]
  },
  {
   "cell_type": "code",
   "execution_count": null,
   "id": "8793cebc-a029-4d52-abe3-d8b971df7080",
   "metadata": {},
   "outputs": [],
   "source": [
    "# Convert your model data to be with polynomial regression of 4 degree"
   ]
  },
  {
   "cell_type": "code",
   "execution_count": null,
   "id": "1f989dd0-ec71-42b3-8547-53d3387ee19c",
   "metadata": {},
   "outputs": [],
   "source": [
    "poly_converter = PolynomialFeatures(degree=4, include_bias=False)\n",
    "poly_features = poly_converter.fit_transform(X)"
   ]
  },
  {
   "cell_type": "code",
   "execution_count": null,
   "id": "f8da1d74-c797-449e-8696-b1f3000261a2",
   "metadata": {},
   "outputs": [],
   "source": [
    "# Use feature scaling of type Normalization to prepare your data set"
   ]
  },
  {
   "cell_type": "code",
   "execution_count": null,
   "id": "f6388c68-6f09-4ef0-bd1f-33636c0fefc1",
   "metadata": {},
   "outputs": [],
   "source": [
    "from sklearn.preprocessing import Normalizer\n",
    "X_train, X_test, y_train, y_test = train_test_split(poly_features, y, test_size=0.3, random_state=101)\n",
    "normalizer = Normalizer()\n",
    "normalizer.fit(X_train)\n",
    "normalised_X_train = normalizer.transform(X_train)\n",
    "normalised_X_test = normalizer.transform(X_test)"
   ]
  },
  {
   "cell_type": "code",
   "execution_count": null,
   "id": "b1567203-194d-40c1-b881-d692e5652f16",
   "metadata": {},
   "outputs": [],
   "source": [
    "# Use basic Ridge model to eliminate overfitting and choose alpha value of 5\n",
    "# ● Print the MAE and RMSE results of your model"
   ]
  },
  {
   "cell_type": "code",
   "execution_count": null,
   "id": "a37bd443-c757-4d0f-9f85-9ee9ca13a998",
   "metadata": {},
   "outputs": [],
   "source": [
    "from sklearn.linear_model import Ridge\n",
    "\n",
    "ridge_model = Ridge(alpha=5)\n",
    "ridge_model.fit(normalised_X_train, y_train)\n",
    "test_prediction = ridge_model.predict(normalised_X_test)\n",
    "\n",
    "MAE = mean_absolute_error(y_test, test_prediction)\n",
    "RMSE = np.sqrt(mean_squared_error(y_test, test_prediction))\n",
    "\n",
    "print(f'MAE: {MAE}')\n",
    "print(f'RMSE: {RMSE}')"
   ]
  },
  {
   "cell_type": "code",
   "execution_count": null,
   "id": "22c56119-0144-44f1-9f1e-6cf0fccea828",
   "metadata": {},
   "outputs": [],
   "source": [
    "# Use RidgeCV and find what is the optimal alpha value for range between 1 to 10 with jumps of\n",
    "# 0.1 and use ‘neg_root_mean_squared_error’ as the score metric"
   ]
  },
  {
   "cell_type": "code",
   "execution_count": null,
   "id": "a728d84a-10ec-41cc-9a30-c2eac4e71216",
   "metadata": {},
   "outputs": [],
   "source": [
    "from sklearn.linear_model import RidgeCV\n",
    "\n",
    "ridge_cv_model = RidgeCV(alphas=(0.1, 1.0, 10.0), scoring='neg_root_mean_squared_error')\n",
    "ridge_cv_model.fit(normalised_X_train, y_train)\n",
    "test_prediction = ridge_cv_model.predict(normalised_X_test)\n",
    "\n",
    "MAE = mean_absolute_error(y_test, test_prediction)\n",
    "RMSE = np.sqrt(mean_squared_error(y_test, test_prediction))\n",
    "\n",
    "print(f'MAE: {MAE}')\n",
    "print(f'RMSE: {RMSE}')"
   ]
  },
  {
   "cell_type": "code",
   "execution_count": null,
   "id": "70cbe7dc-bc0f-4b41-b7b3-54f07da5e9df",
   "metadata": {},
   "outputs": [],
   "source": [
    "# Print the beta coefficients your model found for each feature"
   ]
  },
  {
   "cell_type": "code",
   "execution_count": null,
   "id": "98361aff-45f9-4ac6-b3cf-4848747cb1c7",
   "metadata": {},
   "outputs": [],
   "source": [
    "ridge_cv_model.coef_"
   ]
  },
  {
   "cell_type": "code",
   "execution_count": null,
   "id": "f9c2f61e-aab9-4e15-bc67-0f458902cba7",
   "metadata": {},
   "outputs": [],
   "source": [
    "# Print the optimal alpha and the score value that this alpha got"
   ]
  },
  {
   "cell_type": "code",
   "execution_count": null,
   "id": "360b9d88-ad94-45a0-a621-ca3c9375a3bb",
   "metadata": {},
   "outputs": [],
   "source": [
    "ridge_cv_model.alpha_"
   ]
  }
 ],
 "metadata": {
  "kernelspec": {
   "display_name": "Python 3 (ipykernel)",
   "language": "python",
   "name": "python3"
  },
  "language_info": {
   "codemirror_mode": {
    "name": "ipython",
    "version": 3
   },
   "file_extension": ".py",
   "mimetype": "text/x-python",
   "name": "python",
   "nbconvert_exporter": "python",
   "pygments_lexer": "ipython3",
   "version": "3.12.7"
  }
 },
 "nbformat": 4,
 "nbformat_minor": 5
}
