{
 "cells": [
  {
   "cell_type": "code",
   "execution_count": null,
   "id": "e3f3771b-65b5-45e4-b856-0d5003676541",
   "metadata": {},
   "outputs": [],
   "source": [
    "from sklearn.model_selection import train_test_split\n",
    "from sklearn.linear_model import LinearRegression\n",
    "from sklearn.metrics import mean_absolute_error, mean_squared_error\n",
    "import pandas as pd\n",
    "import matplotlib.pyplot  as plt\n",
    "import seaborn as sns\n",
    "import numpy as np\n",
    "import scipy\n",
    "from sklearn.preprocessing import PolynomialFeatures"
   ]
  },
  {
   "cell_type": "code",
   "execution_count": null,
   "id": "9d7fdc27-b16f-4e12-a5a9-2a8e5ba3fdd3",
   "metadata": {},
   "outputs": [],
   "source": [
    "df = pd.read_csv('csvs/Advertising.csv')\n",
    "df_copy = df.copy()\n",
    "\n",
    "X = df.drop('sales', axis=1)\n",
    "y  = df['sales']\n",
    "\n",
    "polynom_converter = PolynomialFeatures(degree=3, include_bias=False)\n",
    "polynom_features = polynom_converter.fit_transform(X)\n",
    "\n",
    "X_train, X_test, y_train, y_test = train_test_split(polynom_features, y, test_size=0.3, random_state=101)"
   ]
  },
  {
   "cell_type": "code",
   "execution_count": null,
   "id": "c3bf4c98-28c6-43a5-b7b7-8088206d4721",
   "metadata": {},
   "outputs": [],
   "source": [
    "from sklearn.preprocessing import StandardScaler\n",
    "scaler = StandardScaler()\n",
    "scaler.fit(X_train)\n",
    "scaled_X_train = scaler.transform(X_train)\n",
    "scaled_X_test = scaler.transform(X_test)"
   ]
  },
  {
   "cell_type": "code",
   "execution_count": null,
   "id": "c2e661d9-922b-4d86-b19e-cc338c548764",
   "metadata": {},
   "outputs": [],
   "source": [
    "from sklearn.linear_model import LassoCV\n",
    "lasso_cv_model = LassoCV(eps=0.1, n_alphas=100)\n",
    "lasso_cv_model.fit(scaled_X_train, y_train)\n",
    "\n",
    "test_prediction = lasso_cv_model.predict(scaled_X_test)"
   ]
  },
  {
   "cell_type": "code",
   "execution_count": null,
   "id": "451ddd5f-13c0-4284-a72d-3c50b9cf57b5",
   "metadata": {},
   "outputs": [],
   "source": [
    "# Class exercise"
   ]
  },
  {
   "cell_type": "code",
   "execution_count": null,
   "id": "e9bab24a-08c0-4a39-9741-f758d705156c",
   "metadata": {},
   "outputs": [],
   "source": [
    "call_hours_customers = [2, 3, 4, 5, 6, 1.5, 5, 7, 8, 10]\n",
    "money_earned = [50, 70, 90, 100, 110, 40, 110, 130, 145, 180]\n",
    "\n",
    "dict = {'call_hours_customers':call_hours_customers, 'money_earned':money_earned}\n",
    "df = pd.DataFrame(dict)\n",
    "df_copy = df.copy()\n",
    "\n",
    "X = df_copy.drop('money_earned', axis=1)\n",
    "y = df_copy['money_earned']"
   ]
  },
  {
   "cell_type": "code",
   "execution_count": null,
   "id": "3cc9aff4-5310-48ea-a07e-b59771844140",
   "metadata": {},
   "outputs": [],
   "source": [
    "# Convert your model data to be with polynomial regression of 3 degree"
   ]
  },
  {
   "cell_type": "code",
   "execution_count": null,
   "id": "463b2445-bb27-4b7b-914e-ddd9d439f55f",
   "metadata": {},
   "outputs": [],
   "source": [
    "polynom_converter = PolynomialFeatures(degree=3, include_bias=False)\n",
    "polynom_features = polynom_converter.fit_transform(X)"
   ]
  },
  {
   "cell_type": "code",
   "execution_count": null,
   "id": "59b0752f-3450-4971-82a9-8400352dbf7f",
   "metadata": {},
   "outputs": [],
   "source": [
    "# Use feature scaling of type Standardization to prepare your data set"
   ]
  },
  {
   "cell_type": "code",
   "execution_count": null,
   "id": "3b67235a-0ba8-4796-bbd3-8838cf8d18a1",
   "metadata": {},
   "outputs": [],
   "source": [
    "from sklearn.preprocessing import StandardScaler\n",
    "X_train, X_test, y_train, y_test = train_test_split(polynom_features, y, test_size=0.3, random_state=101)\n",
    "scaler = StandardScaler()\n",
    "scaler.fit(X_train)\n",
    "scaled_X_train = scaler.transform(X_train)\n",
    "scaled_X_test = scaler.transform(X_test)"
   ]
  },
  {
   "cell_type": "code",
   "execution_count": null,
   "id": "0e19301b-13a0-46cf-81e7-f9b817d895d8",
   "metadata": {},
   "outputs": [],
   "source": [
    "# Use basic LassoCV model to eliminate overfitting, for the parameters use 2 different values for `eps` and `n_alphas` "
   ]
  },
  {
   "cell_type": "code",
   "execution_count": null,
   "id": "f56cdf6a-ca3e-4a62-b596-4aa5dc8a4d6c",
   "metadata": {},
   "outputs": [],
   "source": [
    "from sklearn.linear_model import LassoCV\n",
    "\n",
    "first_lasso_cv_model = LassoCV(eps=0.1, n_alphas=100)\n",
    "first_lasso_cv_model.fit(scaled_X_train, y_train)\n",
    "\n",
    "second_lasso_cv_model = LassoCV(eps=0.01, n_alphas=100)\n",
    "second_lasso_cv_model.fit(scaled_X_train, y_train)\n",
    "\n",
    "test_first_model_prediction = first_lasso_cv_model.predict(scaled_X_test)\n",
    "test_second_model_prediction = second_lasso_cv_model.predict(scaled_X_test)"
   ]
  },
  {
   "cell_type": "code",
   "execution_count": null,
   "id": "d6301ba6-e6fd-4ab0-bd1d-3d246086601f",
   "metadata": {},
   "outputs": [],
   "source": [
    "# Print the MAE and RMSE results for each LassoCV model"
   ]
  },
  {
   "cell_type": "code",
   "execution_count": null,
   "id": "e3431a43-0f9c-4850-bab4-a1a069e55919",
   "metadata": {},
   "outputs": [],
   "source": [
    "MAE = mean_absolute_error(y_test, test_first_model_prediction)\n",
    "RMSE = np.sqrt(mean_squared_error(y_test, test_first_model_prediction))\n",
    "\n",
    "print(f'first model MAE: {MAE}')\n",
    "print(f'first model RMSE: {RMSE}')\n",
    "\n",
    "\n",
    "MAE = mean_absolute_error(y_test, test_second_model_prediction)\n",
    "RMSE = np.sqrt(mean_squared_error(y_test, test_second_model_prediction))\n",
    "\n",
    "print(f'second model MAE: {MAE}')\n",
    "print(f'second model RMSE: {RMSE}')"
   ]
  },
  {
   "cell_type": "code",
   "execution_count": null,
   "id": "701b6d6b-cdea-4da6-8e5c-2e82019c14e4",
   "metadata": {},
   "outputs": [],
   "source": [
    "# Print the beta coefficients you got for each model, see if some coefficients got 0 value"
   ]
  },
  {
   "cell_type": "code",
   "execution_count": null,
   "id": "29b4685a-a7e0-47b8-a526-8686cab94486",
   "metadata": {},
   "outputs": [],
   "source": [
    "first_lasso_cv_model.coef_"
   ]
  },
  {
   "cell_type": "code",
   "execution_count": null,
   "id": "694a9f7a-6fa6-4c8b-85d6-3ad493eca044",
   "metadata": {},
   "outputs": [],
   "source": [
    "second_lasso_cv_model.coef_"
   ]
  },
  {
   "cell_type": "code",
   "execution_count": null,
   "id": "f390a629-6b5a-45ab-8c64-de77e6df6ecf",
   "metadata": {},
   "outputs": [],
   "source": [
    "# Print the different optimal alpha values for for each LassoCV model"
   ]
  },
  {
   "cell_type": "code",
   "execution_count": null,
   "id": "fa48d8cd-d6a9-4588-b933-4bd75c860324",
   "metadata": {},
   "outputs": [],
   "source": [
    "print(first_lasso_cv_model.alpha_)"
   ]
  },
  {
   "cell_type": "code",
   "execution_count": null,
   "id": "15dd48c3-2c87-4d44-8b64-217092151d80",
   "metadata": {},
   "outputs": [],
   "source": [
    "print(second_lasso_cv_model.alpha_)"
   ]
  },
  {
   "cell_type": "code",
   "execution_count": null,
   "id": "0a4f3f16-5232-4d07-9874-1903acf6e49d",
   "metadata": {},
   "outputs": [],
   "source": [
    "# Compare the result of the different LassoCV models and select the more accurate one"
   ]
  },
  {
   "cell_type": "code",
   "execution_count": null,
   "id": "2f4826ae-ce2d-4427-bca2-1adc0df527f3",
   "metadata": {},
   "outputs": [],
   "source": [
    "MAE = mean_absolute_error(y_test, test_first_model_prediction)\n",
    "RMSE = np.sqrt(mean_squared_error(y_test, test_first_model_prediction))\n",
    "\n",
    "print(f'first model MAE: {MAE}')\n",
    "print(f'first model RMSE: {RMSE}')\n",
    "\n",
    "\n",
    "MAE = mean_absolute_error(y_test, test_second_model_prediction)\n",
    "RMSE = np.sqrt(mean_squared_error(y_test, test_second_model_prediction))\n",
    "\n",
    "print(f'second model MAE: {MAE}')\n",
    "print(f'second model RMSE: {RMSE}')"
   ]
  },
  {
   "cell_type": "code",
   "execution_count": null,
   "id": "62e1c425-d4ee-4480-8ced-c289f16f99b9",
   "metadata": {},
   "outputs": [],
   "source": [
    "# second model win"
   ]
  },
  {
   "cell_type": "code",
   "execution_count": null,
   "id": "5266c34c-ca1d-4b03-b9a9-92e48634495d",
   "metadata": {},
   "outputs": [],
   "source": [
    "# Cross-Validation - Introduction"
   ]
  },
  {
   "cell_type": "code",
   "execution_count": null,
   "id": "f8ca55f2-87e2-4654-a385-0d752050adde",
   "metadata": {},
   "outputs": [],
   "source": [
    "# For example → Let’s use the ‘Advertising.csv’ and simple Ridge regression with fixed alpha value"
   ]
  },
  {
   "cell_type": "code",
   "execution_count": null,
   "id": "e2e76b73-d54a-4932-b863-9e402f06103b",
   "metadata": {},
   "outputs": [],
   "source": [
    "from sklearn.preprocessing import PolynomialFeatures\n",
    "from sklearn.model_selection import train_test_split\n",
    "\n",
    "df = pd.read_csv('csvs/Advertising.csv')\n",
    "df_copy = df.copy()\n",
    "\n",
    "X = df.drop('sales', axis=1)\n",
    "y  = df['sales']\n",
    "\n",
    "polynom_converter = PolynomialFeatures(degree=3, include_bias=False)\n",
    "polynom_features = polynom_converter.fit_transform(X)\n",
    "\n",
    "X_train, X_test, y_train, y_test = train_test_split(polynom_features, y, test_size=0.3, random_state=101)"
   ]
  },
  {
   "cell_type": "code",
   "execution_count": null,
   "id": "edd7a4d4-9dc7-4aab-af84-8e6aa964d74c",
   "metadata": {},
   "outputs": [],
   "source": [
    "# Next, let's apply standardization feature scaling (because we want to perform Ridge regression)"
   ]
  },
  {
   "cell_type": "code",
   "execution_count": null,
   "id": "24e5cb41-15c7-418b-a458-ca0b49d4c7bb",
   "metadata": {},
   "outputs": [],
   "source": [
    "from sklearn.preprocessing import StandardScaler\n",
    "scaler = StandardScaler()\n",
    "scaler.fit(X_train)\n",
    "scaled_X_train = scaler.transform(X_train)\n",
    "scaled_X_test = scaler.transform(X_test)"
   ]
  },
  {
   "cell_type": "code",
   "execution_count": null,
   "id": "dd2c7ef3-0ff7-4c69-bd40-564ccd18908a",
   "metadata": {},
   "outputs": [],
   "source": [
    "# Finally, let’s create our simple Ridge regression model and execute ‘cross_val_score’:"
   ]
  },
  {
   "cell_type": "code",
   "execution_count": null,
   "id": "8f2c51a5-d586-4c62-b190-5aebf646b250",
   "metadata": {},
   "outputs": [],
   "source": [
    "from sklearn.linear_model import Ridge, RidgeCV\n",
    "from sklearn.model_selection import cross_val_score\n",
    "\n",
    "ridge_model = Ridge(alpha=10)\n",
    "scores = cross_val_score(ridge_model, scaled_X_train, y_train, scoring='neg_mean_squared_error', cv=5)\n",
    "scores"
   ]
  },
  {
   "cell_type": "code",
   "execution_count": null,
   "id": "ad2b9eec-a6a4-42fe-91a6-937f75c2aefd",
   "metadata": {},
   "outputs": [],
   "source": [
    "# Wrap for today! 05/02/25"
   ]
  },
  {
   "cell_type": "code",
   "execution_count": null,
   "id": "472a5256-3770-4f0d-b3d6-77c0e8ddec1a",
   "metadata": {},
   "outputs": [],
   "source": [
    "# Class @ 09/02/25"
   ]
  },
  {
   "cell_type": "code",
   "execution_count": null,
   "id": "c71a4b32-3b3b-498a-88e7-f096cefb1465",
   "metadata": {},
   "outputs": [],
   "source": [
    "# In class practice !"
   ]
  },
  {
   "cell_type": "code",
   "execution_count": null,
   "id": "b9bf6c18-bba6-42a7-89f5-98dd0144371a",
   "metadata": {},
   "outputs": [],
   "source": [
    "# 1. Load some data (e.g., the Boston housing dataset for demonstration)\n",
    "# X, y = load_boston(return_X_y=True)\n",
    "\n",
    "# 2. Split into train/test (so you have separate data sets if you want to evaluate later)\n",
    "# X_train, X_test, y_train, y_test = train_test_split(X, y, test_size=0.2, random_state=42)\n",
    "\n",
    "# 3. Scale the features\n",
    "# scaler = StandardScaler()\n",
    "# scaled_X_train = scaler.fit_transform(X_train)\n",
    "# scaled_X_test = scaler.transform(X_test)  if you want to use it later\n",
    "\n",
    "# 4. Create a Ridge model with alpha=1\n",
    "# ridge_model = Ridge(alpha=1)\n",
    "\n",
    "# 5. Cross-validate using MSE as the metric\n",
    "#    scoring='neg_mean_squared_error' means it will return negative MSE values\n",
    "# scores = cross_val_score(ridge_model,\n",
    "#                          scaled_X_train, \n",
    "#                          y_train,\n",
    "#                          scoring='neg_mean_squared_error',\n",
    "#                          cv=5)\n",
    "\n",
    "# 6. Take the mean of the cross-validation scores and convert to positive MSE\n",
    "# mean_mse = np.abs(scores.mean())\n",
    "\n",
    "# print(\"Mean MSE from 5-fold cross-validation:\", mean_mse)"
   ]
  },
  {
   "cell_type": "code",
   "execution_count": null,
   "id": "6b79af98-7f03-4ec7-b1b7-3120ee6a84eb",
   "metadata": {},
   "outputs": [],
   "source": [
    "df = pd.read_csv('csvs/Advertising.csv')\n",
    "df_copy = df.copy()\n",
    "\n",
    "X = df.drop('sales', axis=1)\n",
    "y  = df['sales']\n",
    "\n",
    "polynom_converter = PolynomialFeatures(degree=3, include_bias=False)\n",
    "polynom_features = polynom_converter.fit_transform(X)\n",
    "\n",
    "X_train, X_test, y_train, y_test = train_test_split(polynom_features, y, test_size=0.2, random_state=42)\n",
    "\n",
    "scaler = StandardScaler()\n",
    "scaled_X_train = scaler.fit_transform(X_train)\n",
    "scaled_X_test = scaler.transform(X_test)\n",
    "\n",
    "ridge_model = RidgeCV(alphas=(0.1, 1, 10), scoring='neg_mean_squared_error')\n",
    "scores = cross_val_score(ridge_model,\n",
    "                         scaled_X_train, \n",
    "                         y_train,\n",
    "                         scoring='neg_mean_squared_error',\n",
    "                         cv=5)\n",
    "\n",
    "mean_mse = np.abs(scores.mean())\n",
    "print(f\"Mean MSE from 5-fold cross-validation:{mean_mse}\")"
   ]
  },
  {
   "cell_type": "code",
   "execution_count": null,
   "id": "caba99ae-ac62-4c36-80ff-7f402042acdf",
   "metadata": {},
   "outputs": [],
   "source": [
    "# End class practice ;)"
   ]
  },
  {
   "cell_type": "code",
   "execution_count": null,
   "id": "2cf7f890-706d-4b80-befa-1aff02c57ecf",
   "metadata": {},
   "outputs": [],
   "source": [
    "# Code from pptx"
   ]
  },
  {
   "cell_type": "code",
   "execution_count": null,
   "id": "ea984770-f0c3-4745-bfa8-946f2361f30b",
   "metadata": {},
   "outputs": [],
   "source": [
    "from sklearn.preprocessing import PolynomialFeatures\n",
    "from sklearn.model_selection import train_test_split\n",
    "\n",
    "df = pd.read_csv('csvs/Advertising.csv')\n",
    "df_copy = df.copy()\n",
    "\n",
    "X = df.drop('sales', axis=1)\n",
    "y  = df['sales']\n",
    "\n",
    "polynom_converter = PolynomialFeatures(degree=3, include_bias=False)\n",
    "polynom_features = polynom_converter.fit_transform(X)\n",
    "\n",
    "X_train, X_test, y_train, y_test = train_test_split(polynom_features, y, test_size=0.3, random_state=101)\n",
    "\n",
    "scaler = StandardScaler()\n",
    "scaler.fit(X_train)\n",
    "scaled_X_train = scaler.transform(X_train)\n",
    "scaled_X_test = scaler.transform(X_test)"
   ]
  },
  {
   "cell_type": "code",
   "execution_count": null,
   "id": "0c95a789-4e59-4d53-87fa-f987437fb984",
   "metadata": {},
   "outputs": [],
   "source": [
    "ridge_model = Ridge(alpha=1)\n",
    "scores = cross_val_score(ridge_model, scaled_X_train, y_train, scoring='neg_mean_squared_error', cv=5)\n",
    "\n",
    "abs(scores.mean())"
   ]
  },
  {
   "cell_type": "code",
   "execution_count": null,
   "id": "840aa92e-22e6-4782-94c4-c52897c2a472",
   "metadata": {},
   "outputs": [],
   "source": [
    "ridge_model = Ridge(alpha=1)\n",
    "scores = cross_val_score(ridge_model, scaled_X_train, y_train, scoring='neg_mean_squared_error', cv=5)\n",
    "abs(scores.mean())"
   ]
  },
  {
   "cell_type": "code",
   "execution_count": null,
   "id": "3916e865-9cab-4956-b22f-d0aae564e66d",
   "metadata": {},
   "outputs": [],
   "source": [
    "# corss_validate() → Method that provides automatically cross-validation processing on a given model\n",
    "# and given dataset."
   ]
  },
  {
   "cell_type": "code",
   "execution_count": null,
   "id": "8d392676-f73f-4e56-bab1-c8f88604f043",
   "metadata": {},
   "outputs": [],
   "source": [
    "from sklearn.model_selection import cross_validate\n",
    "\n",
    "ridge_model = Ridge(alpha=10)\n",
    "scores = cross_validate(ridge_model, scaled_X_train, y_train, scoring=['neg_mean_squared_error', 'neg_mean_absolute_error'], cv=5)\n",
    "\n",
    "scores = pd.DataFrame(scores)\n",
    "scores"
   ]
  },
  {
   "cell_type": "code",
   "execution_count": null,
   "id": "ab5df36b-0f20-4fd4-bbca-7f92b91abe25",
   "metadata": {},
   "outputs": [],
   "source": [
    "# Class Exercise - Cross-Validation"
   ]
  },
  {
   "cell_type": "code",
   "execution_count": null,
   "id": "ca93d899-b041-4901-b51c-2e333f2ac1be",
   "metadata": {},
   "outputs": [],
   "source": [
    "call_hours_customers = [2, 3, 4, 5, 6, 1.5, 5, 7, 8, 10]\n",
    "money_earned = [50, 70, 90, 100, 110, 40, 110, 130, 145, 180]\n",
    "\n",
    "dict = {'call_hours_customers':call_hours_customers, 'money_earned':money_earned}\n",
    "df = pd.DataFrame(dict)\n",
    "df_copy = df.copy()\n",
    "\n",
    "X = df_copy.drop('money_earned', axis=1)\n",
    "y = df_copy['money_earned']\n",
    "\n",
    "# Convert your model data to be with polynomial regression of 3 degree\n",
    "\n",
    "polynom_converter = PolynomialFeatures(degree=3, include_bias=False)\n",
    "polynom_features = polynom_converter.fit_transform(X)\n",
    "\n",
    "# Use feature scaling of type Standardization to prepare your data set\n",
    "X_train, X_test, y_train, y_test = train_test_split(polynom_features, y, test_size=0.3, random_state=101)\n",
    "scaler = StandardScaler()\n",
    "scaler.fit(X_train)\n",
    "scaled_X_train = scaler.transform(X_train)\n",
    "scaled_X_test = scaler.transform(X_test)\n",
    "\n",
    "# Use basic Ridge model to eliminate overfitting\n",
    "\n",
    "ridge_model_10 = Ridge(alpha=10)\n",
    "ridge_model_100 = Ridge(alpha=100)\n",
    "\n",
    "# Apply ‘cross_val_score’ for MAE score metric with ‘alpha’=10 and ‘alpha’=100\n",
    "scores_ridge_model_10 = cross_validate(ridge_model_10, scaled_X_train, y_train, scoring='neg_mean_absolute_error', cv=5)\n",
    "scores_ridge_model_100 = cross_validate(ridge_model_100, scaled_X_train, y_train, scoring='neg_mean_absolute_error', cv=5)\n",
    "\n",
    "\n",
    "scores_ridge_model_10 = pd.DataFrame(scores_ridge_model_10)\n",
    "scores_ridge_model_100 = pd.DataFrame(scores_ridge_model_100)\n",
    "\n",
    "# Calculate the mean MAE for each alpha and decide which performed better\n",
    "print(f'Mean MAE for ridge model alpha=10 {abs(scores_ridge_model_10.mean())}\\n')\n",
    "print(f'Mean MAE for ridge model alpha=100 {abs(scores_ridge_model_100.mean())}\\n')\n",
    "\n",
    "# Apply ‘cross_validate’ for MAE and SME with ‘alpha’=1, ‘alpha’=10, ‘alpha’=100\n",
    "ridge_model_1 = Ridge(alpha=1)\n",
    "\n",
    "scores_ridge_model_1 = cross_validate(ridge_model_10, scaled_X_train, y_train, scoring=['neg_mean_absolute_error', 'neg_mean_squared_error'], cv=5)\n",
    "scores_ridge_model_10 = cross_validate(ridge_model_10, scaled_X_train, y_train, scoring=['neg_mean_absolute_error', 'neg_mean_squared_error'], cv=5)\n",
    "scores_ridge_model_100 = cross_validate(ridge_model_100, scaled_X_train, y_train, scoring=['neg_mean_absolute_error', 'neg_mean_squared_error'], cv=5)\n",
    "\n",
    "# Calculate the mean MAE and SME for each alpha and decide which performed better\n",
    "scores_ridge_model_1 = pd.DataFrame(scores_ridge_model_1)\n",
    "print(f'Mean MAE for ridge model alpha=1 {abs(scores_ridge_model_1.mean())}\\n')"
   ]
  },
  {
   "cell_type": "code",
   "execution_count": null,
   "id": "113f987b-7e27-41e6-a9de-813cc675e061",
   "metadata": {},
   "outputs": [],
   "source": [
    "scores_ridge_model_10.head() "
   ]
  },
  {
   "cell_type": "code",
   "execution_count": null,
   "id": "52675fd5-8137-46e3-939d-eebb8765dae0",
   "metadata": {},
   "outputs": [],
   "source": [
    "scores_ridge_model_100.head() "
   ]
  },
  {
   "cell_type": "code",
   "execution_count": null,
   "id": "a6c25f2a-59ef-4784-b81b-69bde024bb56",
   "metadata": {},
   "outputs": [],
   "source": [
    "scores_ridge_model_1.head()"
   ]
  },
  {
   "cell_type": "code",
   "execution_count": null,
   "id": "1f5edde9-59a3-4304-910c-16b131eb66a1",
   "metadata": {},
   "outputs": [],
   "source": [
    "# End of Class Exercise 49 -  Cross-Validation 09/02/25"
   ]
  }
 ],
 "metadata": {
  "kernelspec": {
   "display_name": "Python 3 (ipykernel)",
   "language": "python",
   "name": "python3"
  },
  "language_info": {
   "codemirror_mode": {
    "name": "ipython",
    "version": 3
   },
   "file_extension": ".py",
   "mimetype": "text/x-python",
   "name": "python",
   "nbconvert_exporter": "python",
   "pygments_lexer": "ipython3",
   "version": "3.12.7"
  }
 },
 "nbformat": 4,
 "nbformat_minor": 5
}
